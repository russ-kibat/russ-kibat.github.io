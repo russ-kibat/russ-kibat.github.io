{
 "cells": [
  {
   "cell_type": "markdown",
   "metadata": {},
   "source": [
    "# NLP With Hotel Review Part 2\n",
    "## Submitted by Russ Kibat | October 2, 2022  \n",
    "\n",
    "-----\n",
    "\n",
    "## Setting up the notebook reviewing the dataset\n",
    "### Libraries "
   ]
  },
  {
   "cell_type": "code",
   "execution_count": 1,
   "metadata": {},
   "outputs": [],
   "source": [
    "# Import Libraries \n",
    "\n",
    "# data wrangling \n",
    "import pandas as pd # dataframe manipulation \n",
    "import numpy as np # dependancy for pyplot\n",
    "import matplotlib.pyplot as plt # create visualizations\n",
    "import seaborn as sns\n",
    "from time import time # used to measure run times \n",
    "import re # regular expressions \n",
    "\n",
    "from sklearn.decomposition import PCA # principal component analysis \n",
    "from sklearn.model_selection import train_test_split #data preparation \n",
    "from sklearn.preprocessing import StandardScaler # data scaling\n",
    "from sklearn.metrics import accuracy_score # scoring\n",
    "from sklearn.model_selection import cross_val_score # scoring\n",
    "from sklearn.metrics import plot_confusion_matrix # scoring\n",
    "from sklearn.metrics import classification_report #scoring\n",
    "\n",
    "# models\n",
    "from sklearn.linear_model import LogisticRegression \n",
    "from sklearn.neighbors import KNeighborsClassifier\n",
    "from sklearn.tree import DecisionTreeClassifier\n",
    "\n"
   ]
  },
  {
   "cell_type": "code",
   "execution_count": 2,
   "metadata": {},
   "outputs": [],
   "source": [
    "# Load data\n",
    "test_df = pd.read_csv('data/clean_test_dataframe.csv')\n",
    "train_df = pd.read_csv('data/clean_train_dataframe.csv')"
   ]
  },
  {
   "cell_type": "code",
   "execution_count": 3,
   "metadata": {},
   "outputs": [
    {
     "name": "stdout",
     "output_type": "stream",
     "text": [
      "Test data set shape: 4267 rows 2744 columns\n",
      "Train data set shape: 12798 rows 2744 columns\n"
     ]
    }
   ],
   "source": [
    "# Check the size of the dataframes\n",
    "print(f'Test data set shape: {test_df.shape[0]} rows {test_df.shape[1]} columns')\n",
    "print(f'Train data set shape: {train_df.shape[0]} rows {train_df.shape[1]} columns')\n"
   ]
  },
  {
   "cell_type": "markdown",
   "metadata": {},
   "source": [
    "### Data Review"
   ]
  },
  {
   "cell_type": "code",
   "execution_count": 4,
   "metadata": {},
   "outputs": [
    {
     "name": "stdout",
     "output_type": "stream",
     "text": [
      "<class 'pandas.core.frame.DataFrame'>\n",
      "RangeIndex: 4267 entries, 0 to 4266\n",
      "Columns: 2744 entries, Additional_Number_of_Scoring to rating\n",
      "dtypes: float64(3), int64(2741)\n",
      "memory usage: 89.3 MB\n"
     ]
    }
   ],
   "source": [
    "# take a look all of the columns to get a feel of what the bulk of them are\n",
    "\n",
    "test_df.info()\n"
   ]
  },
  {
   "cell_type": "code",
   "execution_count": 5,
   "metadata": {},
   "outputs": [
    {
     "name": "stdout",
     "output_type": "stream",
     "text": [
      "There are 396 columns that start with ^Hotel_Name_\n",
      "There are 983 columns that start with ^p_\n",
      "There are 1343 columns that start with ^n_\n",
      "There are 22 other columns\n"
     ]
    }
   ],
   "source": [
    "# Check how many columns are related to hotel names, positive review words, and negative review words\n",
    "\n",
    "# Set up the column prefixes to count and a counter\n",
    "regex_list = ['^Hotel_Name_', '^p_', '^n_']\n",
    "dummy_col = 0 \n",
    "\n",
    "# check the list of columns for the prefixes counts and print the results \n",
    "\n",
    "for i in regex_list:\n",
    "    r = re.compile(i)\n",
    "    temp_list = list(filter(r.match,test_df.columns))\n",
    "    dummy_col += len(temp_list)\n",
    "    print(f'There are {len(temp_list)} columns that start with {i}')\n",
    "\n",
    "print(f'There are {test_df.shape[1] - dummy_col} other columns')"
   ]
  },
  {
   "cell_type": "code",
   "execution_count": 6,
   "metadata": {},
   "outputs": [],
   "source": [
    "#next step is to set up x/y test and train DFs\n",
    "X_train = train_df.drop('rating', axis=1)\n",
    "X_test = test_df.drop('rating', axis=1)\n",
    "y_train = train_df['rating']\n",
    "y_test = test_df['rating']\n"
   ]
  },
  {
   "cell_type": "code",
   "execution_count": 7,
   "metadata": {},
   "outputs": [
    {
     "name": "stdout",
     "output_type": "stream",
     "text": [
      "Test data set shape: 4267 rows 2744 columns\n",
      "Train data set shape: 12798 rows 2744 columns\n",
      "X_train shape: (12798, 2743)\n",
      "X_test shape: (4267, 2743)        \n",
      "y_train shape: (12798,)\n",
      "y_test shape: (4267,)\n"
     ]
    }
   ],
   "source": [
    "print(f'Test data set shape: {test_df.shape[0]} rows {test_df.shape[1]} columns')\n",
    "print(f'Train data set shape: {train_df.shape[0]} rows {train_df.shape[1]} columns')\n",
    "print(f'X_train shape: {X_train.shape}\\nX_test shape: {X_test.shape}\\\n",
    "        \\ny_train shape: {y_train.shape}\\ny_test shape: {y_test.shape}')"
   ]
  },
  {
   "cell_type": "markdown",
   "metadata": {},
   "source": [
    "The updated data set contains about 17,000 rows with 25% of them being reserved for testing models. There are 2744 columns which is a huge expansion to the feature set. To get an understanding of what all those columns were I looked at the `.info()` listing and noticed that many columns from the original set are present. The expansion was from encoding tags, hotel names, positive review keywords and negative review key words. Using regular expressions I was able to find that there are approx.:  400 Hotels, 1000 positive review keywords, and 1350 negative review keywords. \n",
    "\n",
    "The final step of preparation was to create X and y dataframes from the test and train data files. As directed, 'Rating' was separated as a target variable. \n"
   ]
  },
  {
   "cell_type": "markdown",
   "metadata": {},
   "source": [
    "## 1 Employ a Linear Classifer on this dataset\n",
    "\n",
    "a. Fit a logisitic regression model to this data with the solver set to lbfgs. What is the accuracy score on the test set?\n",
    "\n",
    "b. What are the 20 words most predictive of a good review (from the positive review column)? What are the 20 words most predictive with a bad review (from the negative review column)? Use the regression coefficients to answer this question\n",
    "\n",
    "c. Reduce the dimensionality of the dataset using PCA, what is the relationship between the number of dimensions and run-time for a logistic regression?\n",
    "\n",
    "d. List one advantage and one disadvantage of dimensionality reduction."
   ]
  },
  {
   "cell_type": "markdown",
   "metadata": {},
   "source": [
    "### 1 a.\n",
    "\n",
    "Setting up a basic model yielded a result of 73.3% accuracy. I added the `max_iter` parameter to ensure the logsitic regression would coverge. With so many variables scaling did not help the model coverge in the standard 100 iterations. I got good results after 250 iterations, but other versions of this model take more so I went with 1,000. "
   ]
  },
  {
   "cell_type": "code",
   "execution_count": 8,
   "metadata": {},
   "outputs": [],
   "source": [
    "# create scaled versions of the test and train dataframes\n",
    "scaler = StandardScaler()\n",
    "scaler = scaler.fit(X_train)\n",
    "X_train_ss = scaler.transform(X_train)\n",
    "X_test_ss = scaler.transform(X_test)"
   ]
  },
  {
   "cell_type": "code",
   "execution_count": 9,
   "metadata": {},
   "outputs": [
    {
     "data": {
      "text/html": [
       "<style>#sk-container-id-1 {color: black;background-color: white;}#sk-container-id-1 pre{padding: 0;}#sk-container-id-1 div.sk-toggleable {background-color: white;}#sk-container-id-1 label.sk-toggleable__label {cursor: pointer;display: block;width: 100%;margin-bottom: 0;padding: 0.3em;box-sizing: border-box;text-align: center;}#sk-container-id-1 label.sk-toggleable__label-arrow:before {content: \"▸\";float: left;margin-right: 0.25em;color: #696969;}#sk-container-id-1 label.sk-toggleable__label-arrow:hover:before {color: black;}#sk-container-id-1 div.sk-estimator:hover label.sk-toggleable__label-arrow:before {color: black;}#sk-container-id-1 div.sk-toggleable__content {max-height: 0;max-width: 0;overflow: hidden;text-align: left;background-color: #f0f8ff;}#sk-container-id-1 div.sk-toggleable__content pre {margin: 0.2em;color: black;border-radius: 0.25em;background-color: #f0f8ff;}#sk-container-id-1 input.sk-toggleable__control:checked~div.sk-toggleable__content {max-height: 200px;max-width: 100%;overflow: auto;}#sk-container-id-1 input.sk-toggleable__control:checked~label.sk-toggleable__label-arrow:before {content: \"▾\";}#sk-container-id-1 div.sk-estimator input.sk-toggleable__control:checked~label.sk-toggleable__label {background-color: #d4ebff;}#sk-container-id-1 div.sk-label input.sk-toggleable__control:checked~label.sk-toggleable__label {background-color: #d4ebff;}#sk-container-id-1 input.sk-hidden--visually {border: 0;clip: rect(1px 1px 1px 1px);clip: rect(1px, 1px, 1px, 1px);height: 1px;margin: -1px;overflow: hidden;padding: 0;position: absolute;width: 1px;}#sk-container-id-1 div.sk-estimator {font-family: monospace;background-color: #f0f8ff;border: 1px dotted black;border-radius: 0.25em;box-sizing: border-box;margin-bottom: 0.5em;}#sk-container-id-1 div.sk-estimator:hover {background-color: #d4ebff;}#sk-container-id-1 div.sk-parallel-item::after {content: \"\";width: 100%;border-bottom: 1px solid gray;flex-grow: 1;}#sk-container-id-1 div.sk-label:hover label.sk-toggleable__label {background-color: #d4ebff;}#sk-container-id-1 div.sk-serial::before {content: \"\";position: absolute;border-left: 1px solid gray;box-sizing: border-box;top: 0;bottom: 0;left: 50%;z-index: 0;}#sk-container-id-1 div.sk-serial {display: flex;flex-direction: column;align-items: center;background-color: white;padding-right: 0.2em;padding-left: 0.2em;position: relative;}#sk-container-id-1 div.sk-item {position: relative;z-index: 1;}#sk-container-id-1 div.sk-parallel {display: flex;align-items: stretch;justify-content: center;background-color: white;position: relative;}#sk-container-id-1 div.sk-item::before, #sk-container-id-1 div.sk-parallel-item::before {content: \"\";position: absolute;border-left: 1px solid gray;box-sizing: border-box;top: 0;bottom: 0;left: 50%;z-index: -1;}#sk-container-id-1 div.sk-parallel-item {display: flex;flex-direction: column;z-index: 1;position: relative;background-color: white;}#sk-container-id-1 div.sk-parallel-item:first-child::after {align-self: flex-end;width: 50%;}#sk-container-id-1 div.sk-parallel-item:last-child::after {align-self: flex-start;width: 50%;}#sk-container-id-1 div.sk-parallel-item:only-child::after {width: 0;}#sk-container-id-1 div.sk-dashed-wrapped {border: 1px dashed gray;margin: 0 0.4em 0.5em 0.4em;box-sizing: border-box;padding-bottom: 0.4em;background-color: white;}#sk-container-id-1 div.sk-label label {font-family: monospace;font-weight: bold;display: inline-block;line-height: 1.2em;}#sk-container-id-1 div.sk-label-container {text-align: center;}#sk-container-id-1 div.sk-container {/* jupyter's `normalize.less` sets `[hidden] { display: none; }` but bootstrap.min.css set `[hidden] { display: none !important; }` so we also need the `!important` here to be able to override the default hidden behavior on the sphinx rendered scikit-learn.org. See: https://github.com/scikit-learn/scikit-learn/issues/21755 */display: inline-block !important;position: relative;}#sk-container-id-1 div.sk-text-repr-fallback {display: none;}</style><div id=\"sk-container-id-1\" class=\"sk-top-container\"><div class=\"sk-text-repr-fallback\"><pre>LogisticRegression(max_iter=1000)</pre><b>In a Jupyter environment, please rerun this cell to show the HTML representation or trust the notebook. <br />On GitHub, the HTML representation is unable to render, please try loading this page with nbviewer.org.</b></div><div class=\"sk-container\" hidden><div class=\"sk-item\"><div class=\"sk-estimator sk-toggleable\"><input class=\"sk-toggleable__control sk-hidden--visually\" id=\"sk-estimator-id-1\" type=\"checkbox\" checked><label for=\"sk-estimator-id-1\" class=\"sk-toggleable__label sk-toggleable__label-arrow\">LogisticRegression</label><div class=\"sk-toggleable__content\"><pre>LogisticRegression(max_iter=1000)</pre></div></div></div></div></div>"
      ],
      "text/plain": [
       "LogisticRegression(max_iter=1000)"
      ]
     },
     "execution_count": 9,
     "metadata": {},
     "output_type": "execute_result"
    }
   ],
   "source": [
    "# instantiate the model\n",
    "# use lbfgs solver as directed, 1000 iterations to ensure the model converges\n",
    "logistic_regression_model = LogisticRegression(solver='lbfgs', max_iter=1000)\n",
    "\n",
    "# fit the model\n",
    "logistic_regression_model.fit(X_train_ss, y_train)"
   ]
  },
  {
   "cell_type": "code",
   "execution_count": 10,
   "metadata": {},
   "outputs": [
    {
     "name": "stdout",
     "output_type": "stream",
     "text": [
      "The score on the test set is 73.3%\n"
     ]
    }
   ],
   "source": [
    "# Calculate the score and display it\n",
    "\n",
    "score = logistic_regression_model.score(X_test_ss,y_test)\n",
    "print(f'The score on the test set is {score*100:.1f}%')"
   ]
  },
  {
   "cell_type": "markdown",
   "metadata": {},
   "source": [
    "### 1 b.\n",
    "\n",
    "Now that I have the the fitted model I can extract the list of coefficients and columns they are associated with. Taking a look at the lists and associated coefficients I can see that positive words tend to more impact on the model. "
   ]
  },
  {
   "cell_type": "code",
   "execution_count": 11,
   "metadata": {},
   "outputs": [
    {
     "name": "stdout",
     "output_type": "stream",
     "text": [
      "Top 20 Positive review words: \n"
     ]
    },
    {
     "data": {
      "text/html": [
       "<div>\n",
       "<style scoped>\n",
       "    .dataframe tbody tr th:only-of-type {\n",
       "        vertical-align: middle;\n",
       "    }\n",
       "\n",
       "    .dataframe tbody tr th {\n",
       "        vertical-align: top;\n",
       "    }\n",
       "\n",
       "    .dataframe thead th {\n",
       "        text-align: right;\n",
       "    }\n",
       "</style>\n",
       "<table border=\"1\" class=\"dataframe\">\n",
       "  <thead>\n",
       "    <tr style=\"text-align: right;\">\n",
       "      <th></th>\n",
       "      <th>coef</th>\n",
       "      <th>column</th>\n",
       "    </tr>\n",
       "  </thead>\n",
       "  <tbody>\n",
       "    <tr>\n",
       "      <th>812</th>\n",
       "      <td>0.544474</td>\n",
       "      <td>p_gift</td>\n",
       "    </tr>\n",
       "    <tr>\n",
       "      <th>733</th>\n",
       "      <td>0.517316</td>\n",
       "      <td>p_excellent</td>\n",
       "    </tr>\n",
       "    <tr>\n",
       "      <th>880</th>\n",
       "      <td>0.450513</td>\n",
       "      <td>p_incredible</td>\n",
       "    </tr>\n",
       "    <tr>\n",
       "      <th>731</th>\n",
       "      <td>0.401304</td>\n",
       "      <td>p_exceed</td>\n",
       "    </tr>\n",
       "    <tr>\n",
       "      <th>874</th>\n",
       "      <td>0.398645</td>\n",
       "      <td>p_impeccable</td>\n",
       "    </tr>\n",
       "    <tr>\n",
       "      <th>728</th>\n",
       "      <td>0.374315</td>\n",
       "      <td>p_everything</td>\n",
       "    </tr>\n",
       "    <tr>\n",
       "      <th>829</th>\n",
       "      <td>0.350164</td>\n",
       "      <td>p_hair</td>\n",
       "    </tr>\n",
       "    <tr>\n",
       "      <th>822</th>\n",
       "      <td>0.348846</td>\n",
       "      <td>p_great</td>\n",
       "    </tr>\n",
       "    <tr>\n",
       "      <th>1242</th>\n",
       "      <td>0.348544</td>\n",
       "      <td>p_staff</td>\n",
       "    </tr>\n",
       "    <tr>\n",
       "      <th>664</th>\n",
       "      <td>0.337498</td>\n",
       "      <td>p_deluxe</td>\n",
       "    </tr>\n",
       "    <tr>\n",
       "      <th>483</th>\n",
       "      <td>0.330745</td>\n",
       "      <td>p_arrange</td>\n",
       "    </tr>\n",
       "    <tr>\n",
       "      <th>1232</th>\n",
       "      <td>0.328158</td>\n",
       "      <td>p_special</td>\n",
       "    </tr>\n",
       "    <tr>\n",
       "      <th>636</th>\n",
       "      <td>0.323876</td>\n",
       "      <td>p_could</td>\n",
       "    </tr>\n",
       "    <tr>\n",
       "      <th>735</th>\n",
       "      <td>0.319166</td>\n",
       "      <td>p_exceptional</td>\n",
       "    </tr>\n",
       "    <tr>\n",
       "      <th>463</th>\n",
       "      <td>0.315992</td>\n",
       "      <td>p_amazingly</td>\n",
       "    </tr>\n",
       "    <tr>\n",
       "      <th>458</th>\n",
       "      <td>0.307155</td>\n",
       "      <td>p_already</td>\n",
       "    </tr>\n",
       "    <tr>\n",
       "      <th>755</th>\n",
       "      <td>0.303737</td>\n",
       "      <td>p_fantastic</td>\n",
       "    </tr>\n",
       "    <tr>\n",
       "      <th>1062</th>\n",
       "      <td>0.299881</td>\n",
       "      <td>p_perfect</td>\n",
       "    </tr>\n",
       "    <tr>\n",
       "      <th>462</th>\n",
       "      <td>0.296349</td>\n",
       "      <td>p_amaze</td>\n",
       "    </tr>\n",
       "    <tr>\n",
       "      <th>539</th>\n",
       "      <td>0.291948</td>\n",
       "      <td>p_bridge</td>\n",
       "    </tr>\n",
       "  </tbody>\n",
       "</table>\n",
       "</div>"
      ],
      "text/plain": [
       "          coef         column\n",
       "812   0.544474         p_gift\n",
       "733   0.517316    p_excellent\n",
       "880   0.450513   p_incredible\n",
       "731   0.401304       p_exceed\n",
       "874   0.398645   p_impeccable\n",
       "728   0.374315   p_everything\n",
       "829   0.350164         p_hair\n",
       "822   0.348846        p_great\n",
       "1242  0.348544        p_staff\n",
       "664   0.337498       p_deluxe\n",
       "483   0.330745      p_arrange\n",
       "1232  0.328158      p_special\n",
       "636   0.323876        p_could\n",
       "735   0.319166  p_exceptional\n",
       "463   0.315992    p_amazingly\n",
       "458   0.307155      p_already\n",
       "755   0.303737    p_fantastic\n",
       "1062  0.299881      p_perfect\n",
       "462   0.296349        p_amaze\n",
       "539   0.291948       p_bridge"
      ]
     },
     "metadata": {},
     "output_type": "display_data"
    },
    {
     "name": "stdout",
     "output_type": "stream",
     "text": [
      "Top 20 negative review words: \n"
     ]
    },
    {
     "data": {
      "text/html": [
       "<div>\n",
       "<style scoped>\n",
       "    .dataframe tbody tr th:only-of-type {\n",
       "        vertical-align: middle;\n",
       "    }\n",
       "\n",
       "    .dataframe tbody tr th {\n",
       "        vertical-align: top;\n",
       "    }\n",
       "\n",
       "    .dataframe thead th {\n",
       "        text-align: right;\n",
       "    }\n",
       "</style>\n",
       "<table border=\"1\" class=\"dataframe\">\n",
       "  <thead>\n",
       "    <tr style=\"text-align: right;\">\n",
       "      <th></th>\n",
       "      <th>coef</th>\n",
       "      <th>column</th>\n",
       "    </tr>\n",
       "  </thead>\n",
       "  <tbody>\n",
       "    <tr>\n",
       "      <th>2027</th>\n",
       "      <td>0.706545</td>\n",
       "      <td>n_inn</td>\n",
       "    </tr>\n",
       "    <tr>\n",
       "      <th>2208</th>\n",
       "      <td>0.360512</td>\n",
       "      <td>n_nothing</td>\n",
       "    </tr>\n",
       "    <tr>\n",
       "      <th>1980</th>\n",
       "      <td>0.351926</td>\n",
       "      <td>n_height</td>\n",
       "    </tr>\n",
       "    <tr>\n",
       "      <th>2637</th>\n",
       "      <td>0.341929</td>\n",
       "      <td>n_tricky</td>\n",
       "    </tr>\n",
       "    <tr>\n",
       "      <th>1725</th>\n",
       "      <td>0.326120</td>\n",
       "      <td>n_criticism</td>\n",
       "    </tr>\n",
       "    <tr>\n",
       "      <th>2728</th>\n",
       "      <td>0.315765</td>\n",
       "      <td>n_wonderful</td>\n",
       "    </tr>\n",
       "    <tr>\n",
       "      <th>1521</th>\n",
       "      <td>0.249176</td>\n",
       "      <td>n_assume</td>\n",
       "    </tr>\n",
       "    <tr>\n",
       "      <th>1678</th>\n",
       "      <td>0.241560</td>\n",
       "      <td>n_complain</td>\n",
       "    </tr>\n",
       "    <tr>\n",
       "      <th>2042</th>\n",
       "      <td>0.238234</td>\n",
       "      <td>n_join</td>\n",
       "    </tr>\n",
       "    <tr>\n",
       "      <th>1799</th>\n",
       "      <td>0.220748</td>\n",
       "      <td>n_drawer</td>\n",
       "    </tr>\n",
       "    <tr>\n",
       "      <th>2489</th>\n",
       "      <td>0.217813</td>\n",
       "      <td>n_slight</td>\n",
       "    </tr>\n",
       "    <tr>\n",
       "      <th>1782</th>\n",
       "      <td>0.214562</td>\n",
       "      <td>n_dislike</td>\n",
       "    </tr>\n",
       "    <tr>\n",
       "      <th>2272</th>\n",
       "      <td>0.214130</td>\n",
       "      <td>n_pick</td>\n",
       "    </tr>\n",
       "    <tr>\n",
       "      <th>1964</th>\n",
       "      <td>0.213995</td>\n",
       "      <td>n_half</td>\n",
       "    </tr>\n",
       "    <tr>\n",
       "      <th>1907</th>\n",
       "      <td>0.210130</td>\n",
       "      <td>n_follow</td>\n",
       "    </tr>\n",
       "    <tr>\n",
       "      <th>2189</th>\n",
       "      <td>0.207238</td>\n",
       "      <td>n_negative</td>\n",
       "    </tr>\n",
       "    <tr>\n",
       "      <th>1853</th>\n",
       "      <td>0.193955</td>\n",
       "      <td>n_executive</td>\n",
       "    </tr>\n",
       "    <tr>\n",
       "      <th>2423</th>\n",
       "      <td>0.187800</td>\n",
       "      <td>n_sachet</td>\n",
       "    </tr>\n",
       "    <tr>\n",
       "      <th>2086</th>\n",
       "      <td>0.187543</td>\n",
       "      <td>n_little</td>\n",
       "    </tr>\n",
       "    <tr>\n",
       "      <th>1438</th>\n",
       "      <td>0.187366</td>\n",
       "      <td>n_5th</td>\n",
       "    </tr>\n",
       "  </tbody>\n",
       "</table>\n",
       "</div>"
      ],
      "text/plain": [
       "          coef       column\n",
       "2027  0.706545        n_inn\n",
       "2208  0.360512    n_nothing\n",
       "1980  0.351926     n_height\n",
       "2637  0.341929     n_tricky\n",
       "1725  0.326120  n_criticism\n",
       "2728  0.315765  n_wonderful\n",
       "1521  0.249176     n_assume\n",
       "1678  0.241560   n_complain\n",
       "2042  0.238234       n_join\n",
       "1799  0.220748     n_drawer\n",
       "2489  0.217813     n_slight\n",
       "1782  0.214562    n_dislike\n",
       "2272  0.214130       n_pick\n",
       "1964  0.213995       n_half\n",
       "1907  0.210130     n_follow\n",
       "2189  0.207238   n_negative\n",
       "1853  0.193955  n_executive\n",
       "2423  0.187800     n_sachet\n",
       "2086  0.187543     n_little\n",
       "1438  0.187366        n_5th"
      ]
     },
     "metadata": {},
     "output_type": "display_data"
    }
   ],
   "source": [
    "\n",
    "# Set up a dataframe consisting of the coefficient of the model and the list of columns \n",
    "\n",
    "coefficient_df  = pd.DataFrame(logistic_regression_model.coef_).T\n",
    "cols = pd.DataFrame(X_test.columns)\n",
    "\n",
    "coefficient_df = pd.concat([coefficient_df,cols], axis = 1)\n",
    "coefficient_df.set_axis(['coef','column'], axis=1, inplace=True)\n",
    "\n",
    "# create smaller dataframes consisting of just positive review words and negative review words\n",
    "\n",
    "p_df = coefficient_df[coefficient_df['column'].str.startswith('p_')]\n",
    "n_df = coefficient_df[coefficient_df['column'].str.startswith('n_')]\n",
    "\n",
    "# sort these columns and display top 20 words by coefficient.  \n",
    "print('Top 20 Positive review words: ')\n",
    "display(p_df.sort_values('coef', ascending=False).head(20))\n",
    "\n",
    "print('Top 20 negative review words: ')\n",
    "display(n_df.sort_values('coef', ascending=False).head(20))\n",
    "\n"
   ]
  },
  {
   "cell_type": "markdown",
   "metadata": {},
   "source": [
    "### 1 c.\n",
    "\n",
    "Using PCA and reducing the number of dimenensions did improve the model by 3%. This is an improvement of the first model, however there is still work to do.\n",
    "\n",
    "Using `%timeit` I can see there is an order of magnitude difference between fitting a model to the full PCA set vs the 6 dimension set. "
   ]
  },
  {
   "cell_type": "code",
   "execution_count": 12,
   "metadata": {},
   "outputs": [],
   "source": [
    "# create PCA object\n",
    "log_PCA = PCA()\n",
    "\n",
    "# fit PCA to our data\n",
    "log_PCA.fit(X_train_ss)\n",
    "\n",
    "# transform the train and test data\n",
    "X_train_ss_PCA = log_PCA.transform(X_train_ss)\n",
    "X_test_ss_PCA = log_PCA.transform(X_test_ss)"
   ]
  },
  {
   "cell_type": "code",
   "execution_count": 13,
   "metadata": {},
   "outputs": [
    {
     "data": {
      "text/plain": [
       "(12798, 2743)"
      ]
     },
     "execution_count": 13,
     "metadata": {},
     "output_type": "execute_result"
    }
   ],
   "source": [
    "# look at the shape of the PCA data\n",
    "X_train_ss_PCA.shape"
   ]
  },
  {
   "cell_type": "code",
   "execution_count": 14,
   "metadata": {},
   "outputs": [
    {
     "name": "stdout",
     "output_type": "stream",
     "text": [
      "PCA feature #1 var ratio: 0.007637859215482228\n",
      "PCA feature #2 var ratio: 0.004727197738142273\n",
      "PCA feature #3 var ratio: 0.0021802390151672534\n",
      "PCA feature #4 var ratio: 0.001960084867135508\n",
      "PCA feature #5 var ratio: 0.0019249941981280033\n",
      "PCA feature #6 var ratio: 0.0017158766635731037\n",
      "PCA feature #7 var ratio: 0.0016899621491484448\n",
      "PCA feature #8 var ratio: 0.0016589648703314523\n",
      "PCA feature #9 var ratio: 0.0016107487339177213\n",
      "PCA feature #10 var ratio: 0.001576439059399313\n",
      "PCA feature #0 var ratio: 0.007637859215482228\n",
      "PCA feature #-1 var ratio: 5.691169061098283e-37\n",
      "PCA feature #-2 var ratio: 1.6093837478622824e-36\n",
      "PCA feature #-3 var ratio: 3.132638814409508e-36\n",
      "PCA feature #-4 var ratio: 4.432006586156138e-36\n",
      "PCA feature #-5 var ratio: 6.248977796351376e-36\n",
      "PCA feature #-6 var ratio: 1.3445946980485758e-35\n",
      "PCA feature #-7 var ratio: 1.6918929449174655e-35\n",
      "PCA feature #-8 var ratio: 1.8554423987425492e-35\n",
      "PCA feature #-9 var ratio: 1.9447051737277108e-35\n"
     ]
    }
   ],
   "source": [
    "# look at the variance explained by the first 10 most impactful features\n",
    "for i in range(10):\n",
    "    print(f'PCA feature #{i+1} var ratio: {log_PCA.explained_variance_ratio_[i]}')\n",
    "\n",
    "# look at the variance explained by the last 10 most impactful features\n",
    "for i in range(10):\n",
    "    print(f'PCA feature #{-i} var ratio: {log_PCA.explained_variance_ratio_[-i]}')\n",
    "\n",
    "# with over 2000 features it it makes sense that less each contributes < 1%\n"
   ]
  },
  {
   "cell_type": "code",
   "execution_count": 18,
   "metadata": {},
   "outputs": [
    {
     "data": {
      "image/png": "[encoded data removed]",
      "text/plain": [
       "<Figure size 640x480 with 1 Axes>"
      ]
     },
     "metadata": {},
     "output_type": "display_data"
    }
   ],
   "source": [
    "# look for a good number of PCs\n",
    "plt.figure()\n",
    "plt.plot([log_PCA.explained_variance_ratio_])\n",
    "plt.show()"
   ]
  },
  {
   "cell_type": "code",
   "execution_count": 19,
   "metadata": {},
   "outputs": [
    {
     "data": {
      "image/png": "[encoded data removed]",
      "text/plain": [
       "<Figure size 640x480 with 1 Axes>"
      ]
     },
     "metadata": {},
     "output_type": "display_data"
    }
   ],
   "source": [
    "plt.figure()\n",
    "plt.plot(log_PCA.explained_variance_ratio_[0:99])\n",
    "plt.show()\n",
    "\n",
    "#the elbow is less than 20, enhance!"
   ]
  },
  {
   "cell_type": "code",
   "execution_count": 20,
   "metadata": {},
   "outputs": [
    {
     "data": {
      "image/png": "[encoded data removed]",
      "text/plain": [
       "<Figure size 640x480 with 1 Axes>"
      ]
     },
     "metadata": {},
     "output_type": "display_data"
    }
   ],
   "source": [
    "plt.figure()\n",
    "plt.plot(range(1,21),log_PCA.explained_variance_ratio_[0:20])\n",
    "plt.xticks(range(1,20,1))\n",
    "plt.show()\n",
    "\n",
    "#This indicates the I should use 6 components \n"
   ]
  },
  {
   "cell_type": "code",
   "execution_count": 22,
   "metadata": {},
   "outputs": [],
   "source": [
    "# fit the data using a 6 component PCA object\n",
    "\n",
    "log_PCA_6 = PCA(n_components=20)\n",
    "log_PCA_6.fit(X_train_ss)\n",
    "\n",
    "# transform the train and test data\n",
    "X_train_ss_PCA_6 = log_PCA_6.transform(X_train_ss)\n",
    "X_test_ss_PCA_6 = log_PCA_6.transform(X_test_ss)\n"
   ]
  },
  {
   "cell_type": "code",
   "execution_count": 23,
   "metadata": {},
   "outputs": [
    {
     "data": {
      "text/plain": [
       "0.7698617295523787"
      ]
     },
     "execution_count": 23,
     "metadata": {},
     "output_type": "execute_result"
    }
   ],
   "source": [
    "# build a logsitic regression model to this data\n",
    "\n",
    "my_logreg_PCA_6 = LogisticRegression(solver='lbfgs', max_iter=1000)\n",
    "my_logreg_PCA_6.fit(X_train_ss_PCA_6,y_train)\n",
    "my_logreg_PCA_6.score(X_test_ss_PCA_6,y_test)\n",
    "\n",
    "# we picked up 3% \n",
    "\n",
    "\n"
   ]
  },
  {
   "cell_type": "code",
   "execution_count": 24,
   "metadata": {},
   "outputs": [
    {
     "name": "stdout",
     "output_type": "stream",
     "text": [
      "10.9 ms ± 279 µs per loop (mean ± std. dev. of 7 runs, 100 loops each)\n"
     ]
    }
   ],
   "source": [
    "%%timeit\n",
    "my_logreg_PCA_6.fit(X_train_ss_PCA_6,y_train)"
   ]
  },
  {
   "cell_type": "code",
   "execution_count": 25,
   "metadata": {},
   "outputs": [],
   "source": [
    "my_logreg_PCA = LogisticRegression(solver='lbfgs',max_iter=1000)\n",
    "\n"
   ]
  },
  {
   "cell_type": "code",
   "execution_count": 26,
   "metadata": {},
   "outputs": [
    {
     "name": "stdout",
     "output_type": "stream",
     "text": [
      "5.12 s ± 129 ms per loop (mean ± std. dev. of 7 runs, 1 loop each)\n"
     ]
    }
   ],
   "source": [
    "%%timeit\n",
    "my_logreg_PCA.fit(X_train_ss_PCA,y_train)"
   ]
  },
  {
   "cell_type": "markdown",
   "metadata": {},
   "source": [
    "### 1.d\n",
    "\n",
    "One advantage of using PCA is you can reduce the number of features in your dataset without losing information. This saves time training your models without a loss of infromation supplied to them. In this case reducing the dimensions along with PCA imrpoved the accuracy score. \n",
    "\n",
    "The disadvantage is in understanding and interpreting the results. Once the data is transformed using PCA the features are combined so it is difficult to tell which ones are impacting results. This might be okay if you a trying to opitimize performnace of a model rather than using a model to explain which features impact the results. \n"
   ]
  },
  {
   "cell_type": "markdown",
   "metadata": {},
   "source": [
    "## 2 Employ a K- Nearest Neighbor classifier on the dataset.\n",
    "\n",
    "Fit a KNN model to this data. What is the accuracy score on the test set?\n",
    "\n",
    "KNN is a computationally expensive model. Reduce the number of observations (data points) in the dataset. What is the relationship between the number of observations and run-time for KNN?\n",
    "\n",
    "List one advantage and one disadvantage of reducing the number of observations.\n",
    "\n",
    "Use the dataset to find an optimal value for K in the KNN algorithm. You will need to split your dataset into train and validation sets.\n",
    "\n",
    "What is the issue with splitting the data into train and validation sets after performing vectorization?\n",
    "\n"
   ]
  },
  {
   "cell_type": "markdown",
   "metadata": {},
   "source": [
    "### 2 a\n",
    "\n",
    "Running the test of scaled data yielded a score of 57%\n",
    "\n"
   ]
  },
  {
   "cell_type": "code",
   "execution_count": 27,
   "metadata": {},
   "outputs": [
    {
     "name": "stderr",
     "output_type": "stream",
     "text": [
      "c:\\Users\\russk\\anaconda3\\lib\\site-packages\\sklearn\\base.py:443: UserWarning: X has feature names, but KNeighborsClassifier was fitted without feature names\n",
      "  warnings.warn(\n"
     ]
    }
   ],
   "source": [
    "# fit a KNN model and find the accuract score\n",
    "\n",
    "KNN_NLP = KNeighborsClassifier()\n",
    "KNN_NLP.fit(X_train_ss, y_train)\n",
    "\n",
    "KNN_test = KNN_NLP.predict(X_test)\n",
    "KNN_accuracy = accuracy_score(KNN_test, y_test)\n"
   ]
  },
  {
   "cell_type": "code",
   "execution_count": 28,
   "metadata": {},
   "outputs": [
    {
     "name": "stdout",
     "output_type": "stream",
     "text": [
      "0.5753456761190532\n"
     ]
    }
   ],
   "source": [
    "print(KNN_accuracy)"
   ]
  },
  {
   "cell_type": "markdown",
   "metadata": {},
   "source": [
    "### 2b 2c\n",
    "\n",
    "Reducing the number of obervations in the model leads to a faster run time. This weakens the model by increasting the chance you will create an overfitted model that will perform worse overall\n"
   ]
  },
  {
   "cell_type": "code",
   "execution_count": 29,
   "metadata": {},
   "outputs": [],
   "source": [
    "X_train_reduced, X_test_reduced, y_train_reduced, y_test_reduced = train_test_split(X_train, y_train, test_size=0.8, random_state=1)"
   ]
  },
  {
   "cell_type": "code",
   "execution_count": 53,
   "metadata": {},
   "outputs": [],
   "source": [
    "## all data 454 ms/loop\n",
    "## 80% data 348 ms/loop\n",
    "## 60% data 256 ms/loop\n",
    "## 40% data 189 ms/loop\n",
    "## 20% data 87 ms/loop\n",
    "\n",
    "## reducing the number of obervations in the model leads to a faster run time. This weakens the model by increasting the chance you will create an overfitted model that will perform worse overall\n",
    "\n"
   ]
  },
  {
   "cell_type": "code",
   "execution_count": 30,
   "metadata": {},
   "outputs": [
    {
     "name": "stdout",
     "output_type": "stream",
     "text": [
      "85.4 ms ± 1.85 ms per loop (mean ± std. dev. of 7 runs, 10 loops each)\n"
     ]
    }
   ],
   "source": [
    "\n",
    "%%timeit\n",
    "KNN_NLP.fit(X_train_reduced, y_train_reduced)"
   ]
  },
  {
   "cell_type": "markdown",
   "metadata": {},
   "source": [
    "### 2d\n",
    "\n",
    "18 nearest neighbors would be the optimal paramater for this model.\n",
    "\n",
    "### 2e\n",
    "Spliting data into test/train/validation sets before vectorizing raises the potential of creating different features in each set. The result will be models that are overfitted to the training set.\n"
   ]
  },
  {
   "cell_type": "code",
   "execution_count": 31,
   "metadata": {},
   "outputs": [],
   "source": [
    "k_list =np.arange(1,50,1)\n",
    "score_list = []\n",
    "\n",
    "X_train_knn, X_validiation_knn, y_train_knn, y_validiation_knn = train_test_split(X_train_ss, y_train, test_size=0.2, random_state=1)\n",
    "\n",
    "for k in k_list:\n",
    "    KNN_NLP = KNeighborsClassifier(n_neighbors=k)\n",
    "    KNN_NLP.fit(X_train_knn, y_train_knn)\n",
    "    KNN_test = KNN_NLP.predict(X_validiation_knn)\n",
    "    KNN_accuracy = accuracy_score(KNN_test, y_validiation_knn)\n",
    "    score_list.append(KNN_accuracy)\n",
    "   \n",
    "\n",
    "    "
   ]
  },
  {
   "cell_type": "code",
   "execution_count": 32,
   "metadata": {},
   "outputs": [
    {
     "data": {
      "image/png": "[encoded data removed]",
      "text/plain": [
       "<Figure size 1500x1000 with 1 Axes>"
      ]
     },
     "metadata": {},
     "output_type": "display_data"
    }
   ],
   "source": [
    "plt.figure(figsize=(15,10))\n",
    "plt.plot(k_list, score_list, marker='|')\n",
    "plt.show()"
   ]
  },
  {
   "cell_type": "markdown",
   "metadata": {},
   "source": [
    "## 3 Employ a Decision Tree classifier on this dataset\n",
    "\n",
    "\n",
    "Employ a Decision Tree classifier on this dataset:\n",
    "\n",
    "Fit a decision tree model to this data. What is the accuracy score on the test set?\n",
    "\n",
    "Use the data set (or a subsample) to find an optimal value for the maximum depth of the decision tree. You will need to split your data set into train and validation.\n",
    "\n",
    "Provide two advantages of decision trees over KNN. Provide two weaknesses of decision trees (classification or regression trees)\n",
    "\n"
   ]
  },
  {
   "cell_type": "markdown",
   "metadata": {},
   "source": [
    "### 3a\n",
    "\n",
    "The base model for decision tree yielded a 69.7% result\n"
   ]
  },
  {
   "cell_type": "code",
   "execution_count": 33,
   "metadata": {},
   "outputs": [
    {
     "data": {
      "text/html": [
       "<style>#sk-container-id-2 {color: black;background-color: white;}#sk-container-id-2 pre{padding: 0;}#sk-container-id-2 div.sk-toggleable {background-color: white;}#sk-container-id-2 label.sk-toggleable__label {cursor: pointer;display: block;width: 100%;margin-bottom: 0;padding: 0.3em;box-sizing: border-box;text-align: center;}#sk-container-id-2 label.sk-toggleable__label-arrow:before {content: \"▸\";float: left;margin-right: 0.25em;color: #696969;}#sk-container-id-2 label.sk-toggleable__label-arrow:hover:before {color: black;}#sk-container-id-2 div.sk-estimator:hover label.sk-toggleable__label-arrow:before {color: black;}#sk-container-id-2 div.sk-toggleable__content {max-height: 0;max-width: 0;overflow: hidden;text-align: left;background-color: #f0f8ff;}#sk-container-id-2 div.sk-toggleable__content pre {margin: 0.2em;color: black;border-radius: 0.25em;background-color: #f0f8ff;}#sk-container-id-2 input.sk-toggleable__control:checked~div.sk-toggleable__content {max-height: 200px;max-width: 100%;overflow: auto;}#sk-container-id-2 input.sk-toggleable__control:checked~label.sk-toggleable__label-arrow:before {content: \"▾\";}#sk-container-id-2 div.sk-estimator input.sk-toggleable__control:checked~label.sk-toggleable__label {background-color: #d4ebff;}#sk-container-id-2 div.sk-label input.sk-toggleable__control:checked~label.sk-toggleable__label {background-color: #d4ebff;}#sk-container-id-2 input.sk-hidden--visually {border: 0;clip: rect(1px 1px 1px 1px);clip: rect(1px, 1px, 1px, 1px);height: 1px;margin: -1px;overflow: hidden;padding: 0;position: absolute;width: 1px;}#sk-container-id-2 div.sk-estimator {font-family: monospace;background-color: #f0f8ff;border: 1px dotted black;border-radius: 0.25em;box-sizing: border-box;margin-bottom: 0.5em;}#sk-container-id-2 div.sk-estimator:hover {background-color: #d4ebff;}#sk-container-id-2 div.sk-parallel-item::after {content: \"\";width: 100%;border-bottom: 1px solid gray;flex-grow: 1;}#sk-container-id-2 div.sk-label:hover label.sk-toggleable__label {background-color: #d4ebff;}#sk-container-id-2 div.sk-serial::before {content: \"\";position: absolute;border-left: 1px solid gray;box-sizing: border-box;top: 0;bottom: 0;left: 50%;z-index: 0;}#sk-container-id-2 div.sk-serial {display: flex;flex-direction: column;align-items: center;background-color: white;padding-right: 0.2em;padding-left: 0.2em;position: relative;}#sk-container-id-2 div.sk-item {position: relative;z-index: 1;}#sk-container-id-2 div.sk-parallel {display: flex;align-items: stretch;justify-content: center;background-color: white;position: relative;}#sk-container-id-2 div.sk-item::before, #sk-container-id-2 div.sk-parallel-item::before {content: \"\";position: absolute;border-left: 1px solid gray;box-sizing: border-box;top: 0;bottom: 0;left: 50%;z-index: -1;}#sk-container-id-2 div.sk-parallel-item {display: flex;flex-direction: column;z-index: 1;position: relative;background-color: white;}#sk-container-id-2 div.sk-parallel-item:first-child::after {align-self: flex-end;width: 50%;}#sk-container-id-2 div.sk-parallel-item:last-child::after {align-self: flex-start;width: 50%;}#sk-container-id-2 div.sk-parallel-item:only-child::after {width: 0;}#sk-container-id-2 div.sk-dashed-wrapped {border: 1px dashed gray;margin: 0 0.4em 0.5em 0.4em;box-sizing: border-box;padding-bottom: 0.4em;background-color: white;}#sk-container-id-2 div.sk-label label {font-family: monospace;font-weight: bold;display: inline-block;line-height: 1.2em;}#sk-container-id-2 div.sk-label-container {text-align: center;}#sk-container-id-2 div.sk-container {/* jupyter's `normalize.less` sets `[hidden] { display: none; }` but bootstrap.min.css set `[hidden] { display: none !important; }` so we also need the `!important` here to be able to override the default hidden behavior on the sphinx rendered scikit-learn.org. See: https://github.com/scikit-learn/scikit-learn/issues/21755 */display: inline-block !important;position: relative;}#sk-container-id-2 div.sk-text-repr-fallback {display: none;}</style><div id=\"sk-container-id-2\" class=\"sk-top-container\"><div class=\"sk-text-repr-fallback\"><pre>DecisionTreeClassifier()</pre><b>In a Jupyter environment, please rerun this cell to show the HTML representation or trust the notebook. <br />On GitHub, the HTML representation is unable to render, please try loading this page with nbviewer.org.</b></div><div class=\"sk-container\" hidden><div class=\"sk-item\"><div class=\"sk-estimator sk-toggleable\"><input class=\"sk-toggleable__control sk-hidden--visually\" id=\"sk-estimator-id-2\" type=\"checkbox\" checked><label for=\"sk-estimator-id-2\" class=\"sk-toggleable__label sk-toggleable__label-arrow\">DecisionTreeClassifier</label><div class=\"sk-toggleable__content\"><pre>DecisionTreeClassifier()</pre></div></div></div></div></div>"
      ],
      "text/plain": [
       "DecisionTreeClassifier()"
      ]
     },
     "execution_count": 33,
     "metadata": {},
     "output_type": "execute_result"
    }
   ],
   "source": [
    "DT_model = DecisionTreeClassifier()\n",
    "DT_model.fit(X_train,y_train)"
   ]
  },
  {
   "cell_type": "code",
   "execution_count": 34,
   "metadata": {},
   "outputs": [
    {
     "data": {
      "text/plain": [
       "0.701663932505273"
      ]
     },
     "execution_count": 34,
     "metadata": {},
     "output_type": "execute_result"
    }
   ],
   "source": [
    "DT_model.score(X_test, y_test)"
   ]
  },
  {
   "cell_type": "markdown",
   "metadata": {},
   "source": [
    "### 3b\n",
    "\n",
    "The optimal depth for a the decision tree on this dataset is 8. That yields a 74% accuracy rate on the validation set and a 74.5% on the test data."
   ]
  },
  {
   "cell_type": "code",
   "execution_count": 35,
   "metadata": {},
   "outputs": [
    {
     "name": "stdout",
     "output_type": "stream",
     "text": [
      "Process Complete\n"
     ]
    },
    {
     "data": {
      "image/png": "[encoded data removed]",
      "text/plain": [
       "<Figure size 1500x1000 with 1 Axes>"
      ]
     },
     "metadata": {},
     "output_type": "display_data"
    }
   ],
   "source": [
    "depth_list = np.arange(1,26)\n",
    "score_list = []\n",
    "\n",
    "X_train_DT, X_validiation_DT, y_train_DT, y_validiation_DT = train_test_split(X_train, y_train, test_size=0.2, random_state=1)\n",
    "\n",
    "\n",
    "for d in depth_list:\n",
    "    DT_model = DecisionTreeClassifier(max_depth=d)\n",
    "    DT_model.fit(X_train_DT, y_train_DT)\n",
    "    DT_score = DT_model.score(X_validiation_DT,y_validiation_DT)\n",
    "    score_list.append(DT_score)\n",
    "    \n",
    "print('Process Complete')\n",
    "\n",
    "plt.figure(figsize=(15,10))\n",
    "plt.plot(depth_list, score_list, marker='+')\n",
    "plt.show()\n",
    "\n",
    "results = pd.DataFrame([depth_list,score_list]).T\n"
   ]
  },
  {
   "cell_type": "code",
   "execution_count": 36,
   "metadata": {},
   "outputs": [
    {
     "data": {
      "text/html": [
       "<div>\n",
       "<style scoped>\n",
       "    .dataframe tbody tr th:only-of-type {\n",
       "        vertical-align: middle;\n",
       "    }\n",
       "\n",
       "    .dataframe tbody tr th {\n",
       "        vertical-align: top;\n",
       "    }\n",
       "\n",
       "    .dataframe thead th {\n",
       "        text-align: right;\n",
       "    }\n",
       "</style>\n",
       "<table border=\"1\" class=\"dataframe\">\n",
       "  <thead>\n",
       "    <tr style=\"text-align: right;\">\n",
       "      <th></th>\n",
       "      <th>0</th>\n",
       "      <th>1</th>\n",
       "    </tr>\n",
       "  </thead>\n",
       "  <tbody>\n",
       "    <tr>\n",
       "      <th>7</th>\n",
       "      <td>8.0</td>\n",
       "      <td>0.739844</td>\n",
       "    </tr>\n",
       "  </tbody>\n",
       "</table>\n",
       "</div>"
      ],
      "text/plain": [
       "     0         1\n",
       "7  8.0  0.739844"
      ]
     },
     "execution_count": 36,
     "metadata": {},
     "output_type": "execute_result"
    }
   ],
   "source": [
    "results = pd.DataFrame([depth_list,score_list]).T\n",
    "\n",
    "results.sort_values(by=1, ascending=False).head(1)"
   ]
  },
  {
   "cell_type": "code",
   "execution_count": 37,
   "metadata": {},
   "outputs": [
    {
     "data": {
      "text/plain": [
       "0.7464260604640263"
      ]
     },
     "execution_count": 37,
     "metadata": {},
     "output_type": "execute_result"
    }
   ],
   "source": [
    "DT_model = DecisionTreeClassifier(max_depth=8)\n",
    "DT_model.fit(X_train,y_train)\n",
    "DT_model.score(X_test, y_test)"
   ]
  },
  {
   "cell_type": "markdown",
   "metadata": {},
   "source": [
    "## 4\n",
    "\n",
    "What is the purpose of the validation set, i.e., how is it different than the test set?\n",
    "\n",
    "The validation sets are used for tuning a model. It is a subset of the training data where test data is separated before the training process. By keeping validation data separate from training data we can tune the model without bringing in bias from the test set. It also ensures that the test data is unseen by the model (and the data scientist!) This is strengthend with cross validation is used since there are multiple samples of the training data being tested."
   ]
  },
  {
   "cell_type": "markdown",
   "metadata": {},
   "source": [
    "## 5 \n",
    "\n",
    "\n",
    "Re-run a decision tree or logistic regression on the data again:\n",
    "\n",
    "Perform a 5-fold cross validation to optimize the hyperparameters of your model.\n",
    " What does your confusion matrix look like for your best model on the test set?\n",
    "\n"
   ]
  },
  {
   "cell_type": "markdown",
   "metadata": {},
   "source": [
    "### 5 a\n",
    "\n",
    "Using a 5-fold cross validation on the logisitic regression model pointed to 0.001 being the optimal value for the l2 parameter C. "
   ]
  },
  {
   "cell_type": "code",
   "execution_count": 38,
   "metadata": {},
   "outputs": [
    {
     "name": "stdout",
     "output_type": "stream",
     "text": [
      "1e-05 loop complete\n",
      "0.0001 loop complete\n",
      "0.001 loop complete\n",
      "0.1 loop complete\n",
      "1 loop complete\n",
      "10 loop complete\n",
      "100 loop complete\n",
      "1000 loop complete\n",
      "10000 loop complete\n"
     ]
    }
   ],
   "source": [
    "cv_score_list = []\n",
    "C_range = [.00001,.0001,.001,.1,1,10,100,1000,10000]\n",
    "\n",
    "for c in C_range:\n",
    "    log_model_5 = LogisticRegression(solver='lbfgs', max_iter=1000, penalty='l2', C=c)\n",
    "\n",
    "    score = np.mean(cross_val_score(log_model_5,X_train_ss,y_train, cv=5))\n",
    "\n",
    "    cv_score_list.append(score)\n",
    "\n",
    "    print(f'{c} loop complete')"
   ]
  },
  {
   "cell_type": "code",
   "execution_count": 39,
   "metadata": {},
   "outputs": [
    {
     "data": {
      "image/png": "[encoded data removed]",
      "text/plain": [
       "<Figure size 640x480 with 1 Axes>"
      ]
     },
     "metadata": {},
     "output_type": "display_data"
    }
   ],
   "source": [
    "plt.figure()\n",
    "plt.plot(C_range, cv_score_list, marker='|')\n",
    "plt.xscale(\"log\")\n",
    "plt.title('Parameter Tuning for C')\n",
    "plt.xlabel('L2 Regularization Parameter C')\n",
    "plt.ylabel('Cross Validation Score')\n",
    "plt.show()\n",
    "\n"
   ]
  },
  {
   "cell_type": "code",
   "execution_count": 40,
   "metadata": {},
   "outputs": [
    {
     "data": {
      "text/html": [
       "<div>\n",
       "<style scoped>\n",
       "    .dataframe tbody tr th:only-of-type {\n",
       "        vertical-align: middle;\n",
       "    }\n",
       "\n",
       "    .dataframe tbody tr th {\n",
       "        vertical-align: top;\n",
       "    }\n",
       "\n",
       "    .dataframe thead th {\n",
       "        text-align: right;\n",
       "    }\n",
       "</style>\n",
       "<table border=\"1\" class=\"dataframe\">\n",
       "  <thead>\n",
       "    <tr style=\"text-align: right;\">\n",
       "      <th></th>\n",
       "      <th>0</th>\n",
       "      <th>1</th>\n",
       "    </tr>\n",
       "  </thead>\n",
       "  <tbody>\n",
       "    <tr>\n",
       "      <th>2</th>\n",
       "      <td>0.001</td>\n",
       "      <td>0.775277</td>\n",
       "    </tr>\n",
       "  </tbody>\n",
       "</table>\n",
       "</div>"
      ],
      "text/plain": [
       "       0         1\n",
       "2  0.001  0.775277"
      ]
     },
     "execution_count": 40,
     "metadata": {},
     "output_type": "execute_result"
    }
   ],
   "source": [
    "results = pd.DataFrame([C_range,cv_score_list]).T\n",
    "results.sort_values(by=1, ascending=False).head(1)"
   ]
  },
  {
   "cell_type": "code",
   "execution_count": 41,
   "metadata": {},
   "outputs": [
    {
     "data": {
      "text/html": [
       "<style>#sk-container-id-3 {color: black;background-color: white;}#sk-container-id-3 pre{padding: 0;}#sk-container-id-3 div.sk-toggleable {background-color: white;}#sk-container-id-3 label.sk-toggleable__label {cursor: pointer;display: block;width: 100%;margin-bottom: 0;padding: 0.3em;box-sizing: border-box;text-align: center;}#sk-container-id-3 label.sk-toggleable__label-arrow:before {content: \"▸\";float: left;margin-right: 0.25em;color: #696969;}#sk-container-id-3 label.sk-toggleable__label-arrow:hover:before {color: black;}#sk-container-id-3 div.sk-estimator:hover label.sk-toggleable__label-arrow:before {color: black;}#sk-container-id-3 div.sk-toggleable__content {max-height: 0;max-width: 0;overflow: hidden;text-align: left;background-color: #f0f8ff;}#sk-container-id-3 div.sk-toggleable__content pre {margin: 0.2em;color: black;border-radius: 0.25em;background-color: #f0f8ff;}#sk-container-id-3 input.sk-toggleable__control:checked~div.sk-toggleable__content {max-height: 200px;max-width: 100%;overflow: auto;}#sk-container-id-3 input.sk-toggleable__control:checked~label.sk-toggleable__label-arrow:before {content: \"▾\";}#sk-container-id-3 div.sk-estimator input.sk-toggleable__control:checked~label.sk-toggleable__label {background-color: #d4ebff;}#sk-container-id-3 div.sk-label input.sk-toggleable__control:checked~label.sk-toggleable__label {background-color: #d4ebff;}#sk-container-id-3 input.sk-hidden--visually {border: 0;clip: rect(1px 1px 1px 1px);clip: rect(1px, 1px, 1px, 1px);height: 1px;margin: -1px;overflow: hidden;padding: 0;position: absolute;width: 1px;}#sk-container-id-3 div.sk-estimator {font-family: monospace;background-color: #f0f8ff;border: 1px dotted black;border-radius: 0.25em;box-sizing: border-box;margin-bottom: 0.5em;}#sk-container-id-3 div.sk-estimator:hover {background-color: #d4ebff;}#sk-container-id-3 div.sk-parallel-item::after {content: \"\";width: 100%;border-bottom: 1px solid gray;flex-grow: 1;}#sk-container-id-3 div.sk-label:hover label.sk-toggleable__label {background-color: #d4ebff;}#sk-container-id-3 div.sk-serial::before {content: \"\";position: absolute;border-left: 1px solid gray;box-sizing: border-box;top: 0;bottom: 0;left: 50%;z-index: 0;}#sk-container-id-3 div.sk-serial {display: flex;flex-direction: column;align-items: center;background-color: white;padding-right: 0.2em;padding-left: 0.2em;position: relative;}#sk-container-id-3 div.sk-item {position: relative;z-index: 1;}#sk-container-id-3 div.sk-parallel {display: flex;align-items: stretch;justify-content: center;background-color: white;position: relative;}#sk-container-id-3 div.sk-item::before, #sk-container-id-3 div.sk-parallel-item::before {content: \"\";position: absolute;border-left: 1px solid gray;box-sizing: border-box;top: 0;bottom: 0;left: 50%;z-index: -1;}#sk-container-id-3 div.sk-parallel-item {display: flex;flex-direction: column;z-index: 1;position: relative;background-color: white;}#sk-container-id-3 div.sk-parallel-item:first-child::after {align-self: flex-end;width: 50%;}#sk-container-id-3 div.sk-parallel-item:last-child::after {align-self: flex-start;width: 50%;}#sk-container-id-3 div.sk-parallel-item:only-child::after {width: 0;}#sk-container-id-3 div.sk-dashed-wrapped {border: 1px dashed gray;margin: 0 0.4em 0.5em 0.4em;box-sizing: border-box;padding-bottom: 0.4em;background-color: white;}#sk-container-id-3 div.sk-label label {font-family: monospace;font-weight: bold;display: inline-block;line-height: 1.2em;}#sk-container-id-3 div.sk-label-container {text-align: center;}#sk-container-id-3 div.sk-container {/* jupyter's `normalize.less` sets `[hidden] { display: none; }` but bootstrap.min.css set `[hidden] { display: none !important; }` so we also need the `!important` here to be able to override the default hidden behavior on the sphinx rendered scikit-learn.org. See: https://github.com/scikit-learn/scikit-learn/issues/21755 */display: inline-block !important;position: relative;}#sk-container-id-3 div.sk-text-repr-fallback {display: none;}</style><div id=\"sk-container-id-3\" class=\"sk-top-container\"><div class=\"sk-text-repr-fallback\"><pre>LogisticRegression(C=0.001, max_iter=250)</pre><b>In a Jupyter environment, please rerun this cell to show the HTML representation or trust the notebook. <br />On GitHub, the HTML representation is unable to render, please try loading this page with nbviewer.org.</b></div><div class=\"sk-container\" hidden><div class=\"sk-item\"><div class=\"sk-estimator sk-toggleable\"><input class=\"sk-toggleable__control sk-hidden--visually\" id=\"sk-estimator-id-3\" type=\"checkbox\" checked><label for=\"sk-estimator-id-3\" class=\"sk-toggleable__label sk-toggleable__label-arrow\">LogisticRegression</label><div class=\"sk-toggleable__content\"><pre>LogisticRegression(C=0.001, max_iter=250)</pre></div></div></div></div></div>"
      ],
      "text/plain": [
       "LogisticRegression(C=0.001, max_iter=250)"
      ]
     },
     "execution_count": 41,
     "metadata": {},
     "output_type": "execute_result"
    }
   ],
   "source": [
    "log_model_5b = LogisticRegression(solver='lbfgs', max_iter=250, penalty='l2', C=.001)\n",
    "log_model_5b.fit(X_train_ss, y_train)"
   ]
  },
  {
   "cell_type": "markdown",
   "metadata": {},
   "source": [
    "### 5b\n",
    "\n",
    "This model, now tuned, has an acurracy of 78% making it the best version of the regression model yet. The confusion matrix shows about 1300 bad reviews correctly labeled and 2000 good reviews correctly labeled. What's interesting is that the number of of false positives and false negatives are similar and the model isn't tedning to misclassify in one direction or the other. To me that indicates that our model isn't biased because the edge cases are evenly split. "
   ]
  },
  {
   "cell_type": "code",
   "execution_count": 42,
   "metadata": {},
   "outputs": [
    {
     "name": "stderr",
     "output_type": "stream",
     "text": [
      "c:\\Users\\russk\\anaconda3\\lib\\site-packages\\sklearn\\utils\\deprecation.py:87: FutureWarning: Function plot_confusion_matrix is deprecated; Function `plot_confusion_matrix` is deprecated in 1.0 and will be removed in 1.2. Use one of the class methods: ConfusionMatrixDisplay.from_predictions or ConfusionMatrixDisplay.from_estimator.\n",
      "  warnings.warn(msg, category=FutureWarning)\n"
     ]
    },
    {
     "data": {
      "text/plain": [
       "<sklearn.metrics._plot.confusion_matrix.ConfusionMatrixDisplay at 0x2235fd8cdc0>"
      ]
     },
     "execution_count": 42,
     "metadata": {},
     "output_type": "execute_result"
    },
    {
     "data": {
      "image/png": "[encoded data removed]",
      "text/plain": [
       "<Figure size 640x480 with 2 Axes>"
      ]
     },
     "metadata": {},
     "output_type": "display_data"
    }
   ],
   "source": [
    "plot_confusion_matrix(log_model_5b, X_test_ss, y_test)"
   ]
  },
  {
   "cell_type": "code",
   "execution_count": 43,
   "metadata": {},
   "outputs": [
    {
     "name": "stdout",
     "output_type": "stream",
     "text": [
      "              precision    recall  f1-score   support\n",
      "\n",
      "           0       0.75      0.71      0.73      1809\n",
      "           1       0.80      0.82      0.81      2458\n",
      "\n",
      "    accuracy                           0.78      4267\n",
      "   macro avg       0.77      0.77      0.77      4267\n",
      "weighted avg       0.78      0.78      0.78      4267\n",
      "\n"
     ]
    }
   ],
   "source": [
    "# other metrics\n",
    "\n",
    "log_model_5b_predictions = log_model_5b.predict(X_test_ss)\n",
    "report_initial = classification_report(y_test, log_model_5b_predictions)\n",
    "print(report_initial)"
   ]
  }
 ],
 "metadata": {
  "kernelspec": {
   "display_name": "Python 3.9.12 ('base')",
   "language": "python",
   "name": "python3"
  },
  "language_info": {
   "codemirror_mode": {
    "name": "ipython",
    "version": 3
   },
   "file_extension": ".py",
   "mimetype": "text/x-python",
   "name": "python",
   "nbconvert_exporter": "python",
   "pygments_lexer": "ipython3",
   "version": "3.9.12"
  },
  "orig_nbformat": 4,
  "vscode": {
   "interpreter": {
    "hash": "9b1a0f9673d84d6e3b24e5aa84d6917949ed6b8b61ef0355d5c7609d2bc80b17"
   }
  }
 },
 "nbformat": 4,
 "nbformat_minor": 2
}
